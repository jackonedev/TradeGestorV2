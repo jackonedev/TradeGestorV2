{
 "cells": [
  {
   "cell_type": "code",
   "execution_count": 1,
   "metadata": {},
   "outputs": [
    {
     "data": {
      "text/html": [
       "<div>\n",
       "<style scoped>\n",
       "    .dataframe tbody tr th:only-of-type {\n",
       "        vertical-align: middle;\n",
       "    }\n",
       "\n",
       "    .dataframe tbody tr th {\n",
       "        vertical-align: top;\n",
       "    }\n",
       "\n",
       "    .dataframe thead th {\n",
       "        text-align: right;\n",
       "    }\n",
       "</style>\n",
       "<table border=\"1\" class=\"dataframe\">\n",
       "  <thead>\n",
       "    <tr style=\"text-align: right;\">\n",
       "      <th></th>\n",
       "      <th>symbol</th>\n",
       "      <th>orderId</th>\n",
       "      <th>side</th>\n",
       "      <th>positionSide</th>\n",
       "      <th>type</th>\n",
       "    </tr>\n",
       "  </thead>\n",
       "  <tbody>\n",
       "    <tr>\n",
       "      <th>0</th>\n",
       "      <td>BTC-USDT</td>\n",
       "      <td>1651606582380724224</td>\n",
       "      <td>BUY</td>\n",
       "      <td>LONG</td>\n",
       "      <td>LIMIT</td>\n",
       "    </tr>\n",
       "    <tr>\n",
       "      <th>1</th>\n",
       "      <td>BTC-USDT</td>\n",
       "      <td>1651606584456904704</td>\n",
       "      <td>SELL</td>\n",
       "      <td>LONG</td>\n",
       "      <td>TRIGGER_MARKET</td>\n",
       "    </tr>\n",
       "    <tr>\n",
       "      <th>2</th>\n",
       "      <td>BTC-USDT</td>\n",
       "      <td>1651609126653919232</td>\n",
       "      <td>BUY</td>\n",
       "      <td>LONG</td>\n",
       "      <td>LIMIT</td>\n",
       "    </tr>\n",
       "    <tr>\n",
       "      <th>3</th>\n",
       "      <td>BTC-USDT</td>\n",
       "      <td>1651609128595881984</td>\n",
       "      <td>SELL</td>\n",
       "      <td>LONG</td>\n",
       "      <td>TRIGGER_MARKET</td>\n",
       "    </tr>\n",
       "    <tr>\n",
       "      <th>4</th>\n",
       "      <td>BTC-USDT</td>\n",
       "      <td>1651609581496827904</td>\n",
       "      <td>BUY</td>\n",
       "      <td>LONG</td>\n",
       "      <td>LIMIT</td>\n",
       "    </tr>\n",
       "    <tr>\n",
       "      <th>5</th>\n",
       "      <td>BTC-USDT</td>\n",
       "      <td>1651609583568814080</td>\n",
       "      <td>SELL</td>\n",
       "      <td>LONG</td>\n",
       "      <td>TRIGGER_MARKET</td>\n",
       "    </tr>\n",
       "  </tbody>\n",
       "</table>\n",
       "</div>"
      ],
      "text/plain": [
       "     symbol              orderId  side positionSide            type\n",
       "0  BTC-USDT  1651606582380724224   BUY         LONG           LIMIT\n",
       "1  BTC-USDT  1651606584456904704  SELL         LONG  TRIGGER_MARKET\n",
       "2  BTC-USDT  1651609126653919232   BUY         LONG           LIMIT\n",
       "3  BTC-USDT  1651609128595881984  SELL         LONG  TRIGGER_MARKET\n",
       "4  BTC-USDT  1651609581496827904   BUY         LONG           LIMIT\n",
       "5  BTC-USDT  1651609583568814080  SELL         LONG  TRIGGER_MARKET"
      ]
     },
     "execution_count": 1,
     "metadata": {},
     "output_type": "execute_result"
    }
   ],
   "source": [
    "import pandas as pd\n",
    "\n",
    "df = pd.read_csv('responses.csv')\n",
    "df\n"
   ]
  }
 ],
 "metadata": {
  "kernelspec": {
   "display_name": "venv",
   "language": "python",
   "name": "python3"
  },
  "language_info": {
   "codemirror_mode": {
    "name": "ipython",
    "version": 3
   },
   "file_extension": ".py",
   "mimetype": "text/x-python",
   "name": "python",
   "nbconvert_exporter": "python",
   "pygments_lexer": "ipython3",
   "version": "3.11.2"
  },
  "orig_nbformat": 4
 },
 "nbformat": 4,
 "nbformat_minor": 2
}
